{
 "cells": [
  {
   "cell_type": "markdown",
   "metadata": {
    "ExecuteTime": {
     "end_time": "2020-07-31T11:53:46.402510Z",
     "start_time": "2020-07-31T11:53:42.855694Z"
    }
   },
   "source": [
    "# Hands State Detection"
   ]
  },
  {
   "cell_type": "markdown",
   "metadata": {},
   "source": [
    "### Imports"
   ]
  },
  {
   "cell_type": "code",
   "execution_count": 5,
   "metadata": {
    "ExecuteTime": {
     "end_time": "2020-07-31T11:55:58.780672Z",
     "start_time": "2020-07-31T11:55:58.767670Z"
    }
   },
   "outputs": [],
   "source": [
    "import pandas as pd\n",
    "import numpy as np\n",
    "import matplotlib.pyplot as plt\n",
    "import seaborn as sns\n",
    "import glob\n",
    "from sklearn.decomposition import PCA\n",
    "import pandas.util.testing as tm\n",
    "import pickle"
   ]
  },
  {
   "cell_type": "markdown",
   "metadata": {},
   "source": [
    "## Loading the data from disk"
   ]
  },
  {
   "cell_type": "code",
   "execution_count": 2,
   "metadata": {
    "ExecuteTime": {
     "end_time": "2020-07-31T11:53:46.417493Z",
     "start_time": "2020-07-31T11:53:46.404497Z"
    }
   },
   "outputs": [],
   "source": [
    "NUM_OF_RECORDS_PER_SAMPLE = 5\n",
    "def combine_rows(df):\n",
    "    cols = df.columns\n",
    "    df = df.groupby(df.index//NUM_OF_RECORDS_PER_SAMPLE)[cols].apply(lambda x: pd.DataFrame(x.values)).unstack().reset_index()\n",
    "    df.columns = df.columns.droplevel()\n",
    "    new_cols = [\"index\"]\n",
    "    for col in cols:\n",
    "        for i in range(NUM_OF_RECORDS_PER_SAMPLE):\n",
    "            new_cols.append(col+str(i)) \n",
    "        \n",
    "    df.columns = new_cols\n",
    "    not_important_features = [\"index\"]\n",
    "    features = [\"Time\",\"Frame ID\",\"state_type\",\"name\",\"Hand Type\",\"# hands\"]\n",
    "    for f in features:\n",
    "        for s in new_cols:\n",
    "            if f in s:\n",
    "                df[f] = df[s]\n",
    "                not_important_features.append(s)\n",
    "    df = df.drop(not_important_features,axis=1)\n",
    "    numeric_featers = [x for x in df.columns if x not in features]\n",
    "    df[numeric_featers] = df[numeric_featers].apply(pd.to_numeric)\n",
    "    return df"
   ]
  },
  {
   "cell_type": "code",
   "execution_count": 3,
   "metadata": {
    "ExecuteTime": {
     "end_time": "2020-07-31T11:53:46.430490Z",
     "start_time": "2020-07-31T11:53:46.421489Z"
    }
   },
   "outputs": [],
   "source": [
    "def get_state_type(filename):\n",
    "    state_type = 3\n",
    "    if 'Spontan' in filename:\n",
    "        state_type = 1\n",
    "    elif 'Sync' in filename:\n",
    "        state_type = 2\n",
    "    return state_type\n",
    "\n",
    "def handle_right_hand_file(df):\n",
    "    alone_right = pd.read_csv(\"HandRight.csv\",index_col=None, header=0)\n",
    "    alone_right.rename(columns=lambda x: x.strip(), inplace=True)\n",
    "    alone_right[\"state_type\"] = 3\n",
    "    alone_right[\"name\"] = \"\"\n",
    "    #df = pd.concat([df,alone_right])\n",
    "    return df"
   ]
  },
  {
   "cell_type": "code",
   "execution_count": 4,
   "metadata": {
    "ExecuteTime": {
     "end_time": "2020-07-31T11:55:57.294424Z",
     "start_time": "2020-07-31T11:53:46.435489Z"
    }
   },
   "outputs": [
    {
     "data": {
      "text/html": [
       "<div>\n",
       "<style scoped>\n",
       "    .dataframe tbody tr th:only-of-type {\n",
       "        vertical-align: middle;\n",
       "    }\n",
       "\n",
       "    .dataframe tbody tr th {\n",
       "        vertical-align: top;\n",
       "    }\n",
       "\n",
       "    .dataframe thead th {\n",
       "        text-align: right;\n",
       "    }\n",
       "</style>\n",
       "<table border=\"1\" class=\"dataframe\">\n",
       "  <thead>\n",
       "    <tr style=\"text-align: right;\">\n",
       "      <th></th>\n",
       "      <th>Position X0</th>\n",
       "      <th>Position X1</th>\n",
       "      <th>Position X2</th>\n",
       "      <th>Position X3</th>\n",
       "      <th>Position X4</th>\n",
       "      <th>Position Y0</th>\n",
       "      <th>Position Y1</th>\n",
       "      <th>Position Y2</th>\n",
       "      <th>Position Y3</th>\n",
       "      <th>Position Y4</th>\n",
       "      <th>...</th>\n",
       "      <th>Pinch Strength1</th>\n",
       "      <th>Pinch Strength2</th>\n",
       "      <th>Pinch Strength3</th>\n",
       "      <th>Pinch Strength4</th>\n",
       "      <th>Time</th>\n",
       "      <th>Frame ID</th>\n",
       "      <th>state_type</th>\n",
       "      <th>name</th>\n",
       "      <th>Hand Type</th>\n",
       "      <th># hands</th>\n",
       "    </tr>\n",
       "  </thead>\n",
       "  <tbody>\n",
       "    <tr>\n",
       "      <th>0</th>\n",
       "      <td>-110.42230</td>\n",
       "      <td>137.58480</td>\n",
       "      <td>-110.69090</td>\n",
       "      <td>138.65750</td>\n",
       "      <td>-111.44740</td>\n",
       "      <td>231.4766</td>\n",
       "      <td>206.9182</td>\n",
       "      <td>233.3635</td>\n",
       "      <td>210.6163</td>\n",
       "      <td>236.8768</td>\n",
       "      <td>...</td>\n",
       "      <td>0.0</td>\n",
       "      <td>0.0</td>\n",
       "      <td>0.0</td>\n",
       "      <td>0.0</td>\n",
       "      <td>71.48033</td>\n",
       "      <td>98080</td>\n",
       "      <td>1</td>\n",
       "      <td>Evyatar Cohen</td>\n",
       "      <td>left</td>\n",
       "      <td>2</td>\n",
       "    </tr>\n",
       "    <tr>\n",
       "      <th>1</th>\n",
       "      <td>139.30040</td>\n",
       "      <td>-112.54570</td>\n",
       "      <td>139.50180</td>\n",
       "      <td>-113.14660</td>\n",
       "      <td>139.50440</td>\n",
       "      <td>214.3510</td>\n",
       "      <td>241.5983</td>\n",
       "      <td>218.3653</td>\n",
       "      <td>245.3283</td>\n",
       "      <td>222.8770</td>\n",
       "      <td>...</td>\n",
       "      <td>0.0</td>\n",
       "      <td>0.0</td>\n",
       "      <td>0.0</td>\n",
       "      <td>0.0</td>\n",
       "      <td>71.51359</td>\n",
       "      <td>98084</td>\n",
       "      <td>1</td>\n",
       "      <td>Evyatar Cohen</td>\n",
       "      <td>right</td>\n",
       "      <td>2</td>\n",
       "    </tr>\n",
       "    <tr>\n",
       "      <th>2</th>\n",
       "      <td>-113.91830</td>\n",
       "      <td>140.34820</td>\n",
       "      <td>-115.02970</td>\n",
       "      <td>142.05480</td>\n",
       "      <td>-115.33540</td>\n",
       "      <td>249.2464</td>\n",
       "      <td>227.4296</td>\n",
       "      <td>252.5950</td>\n",
       "      <td>233.2705</td>\n",
       "      <td>256.1827</td>\n",
       "      <td>...</td>\n",
       "      <td>0.0</td>\n",
       "      <td>0.0</td>\n",
       "      <td>0.0</td>\n",
       "      <td>0.0</td>\n",
       "      <td>71.56316</td>\n",
       "      <td>98090</td>\n",
       "      <td>1</td>\n",
       "      <td>Evyatar Cohen</td>\n",
       "      <td>left</td>\n",
       "      <td>2</td>\n",
       "    </tr>\n",
       "    <tr>\n",
       "      <th>3</th>\n",
       "      <td>144.09590</td>\n",
       "      <td>-114.90850</td>\n",
       "      <td>145.90060</td>\n",
       "      <td>-115.70580</td>\n",
       "      <td>148.04590</td>\n",
       "      <td>239.4014</td>\n",
       "      <td>259.3652</td>\n",
       "      <td>243.7470</td>\n",
       "      <td>261.6903</td>\n",
       "      <td>247.7996</td>\n",
       "      <td>...</td>\n",
       "      <td>0.0</td>\n",
       "      <td>0.0</td>\n",
       "      <td>0.0</td>\n",
       "      <td>0.0</td>\n",
       "      <td>71.59629</td>\n",
       "      <td>98094</td>\n",
       "      <td>1</td>\n",
       "      <td>Evyatar Cohen</td>\n",
       "      <td>right</td>\n",
       "      <td>2</td>\n",
       "    </tr>\n",
       "    <tr>\n",
       "      <th>4</th>\n",
       "      <td>-116.08190</td>\n",
       "      <td>148.85690</td>\n",
       "      <td>-117.53250</td>\n",
       "      <td>150.12540</td>\n",
       "      <td>-118.87450</td>\n",
       "      <td>262.2935</td>\n",
       "      <td>249.4935</td>\n",
       "      <td>265.2766</td>\n",
       "      <td>252.2394</td>\n",
       "      <td>269.4034</td>\n",
       "      <td>...</td>\n",
       "      <td>0.0</td>\n",
       "      <td>0.0</td>\n",
       "      <td>0.0</td>\n",
       "      <td>0.0</td>\n",
       "      <td>71.64600</td>\n",
       "      <td>98099</td>\n",
       "      <td>1</td>\n",
       "      <td>Evyatar Cohen</td>\n",
       "      <td>left</td>\n",
       "      <td>2</td>\n",
       "    </tr>\n",
       "    <tr>\n",
       "      <th>...</th>\n",
       "      <td>...</td>\n",
       "      <td>...</td>\n",
       "      <td>...</td>\n",
       "      <td>...</td>\n",
       "      <td>...</td>\n",
       "      <td>...</td>\n",
       "      <td>...</td>\n",
       "      <td>...</td>\n",
       "      <td>...</td>\n",
       "      <td>...</td>\n",
       "      <td>...</td>\n",
       "      <td>...</td>\n",
       "      <td>...</td>\n",
       "      <td>...</td>\n",
       "      <td>...</td>\n",
       "      <td>...</td>\n",
       "      <td>...</td>\n",
       "      <td>...</td>\n",
       "      <td>...</td>\n",
       "      <td>...</td>\n",
       "      <td>...</td>\n",
       "    </tr>\n",
       "    <tr>\n",
       "      <th>60027</th>\n",
       "      <td>91.31541</td>\n",
       "      <td>-74.79743</td>\n",
       "      <td>92.07137</td>\n",
       "      <td>-75.16435</td>\n",
       "      <td>92.72672</td>\n",
       "      <td>182.4873</td>\n",
       "      <td>153.2910</td>\n",
       "      <td>184.3723</td>\n",
       "      <td>154.5737</td>\n",
       "      <td>185.6738</td>\n",
       "      <td>...</td>\n",
       "      <td>0.0</td>\n",
       "      <td>0.0</td>\n",
       "      <td>0.0</td>\n",
       "      <td>0.0</td>\n",
       "      <td>855.99660</td>\n",
       "      <td>67290</td>\n",
       "      <td>2</td>\n",
       "      <td>Yoel Raz</td>\n",
       "      <td>right</td>\n",
       "      <td>2</td>\n",
       "    </tr>\n",
       "    <tr>\n",
       "      <th>60028</th>\n",
       "      <td>-75.83507</td>\n",
       "      <td>93.94934</td>\n",
       "      <td>-76.47509</td>\n",
       "      <td>94.50477</td>\n",
       "      <td>-76.48546</td>\n",
       "      <td>159.3587</td>\n",
       "      <td>190.0024</td>\n",
       "      <td>163.2591</td>\n",
       "      <td>193.3147</td>\n",
       "      <td>165.9167</td>\n",
       "      <td>...</td>\n",
       "      <td>0.0</td>\n",
       "      <td>0.0</td>\n",
       "      <td>0.0</td>\n",
       "      <td>0.0</td>\n",
       "      <td>856.09640</td>\n",
       "      <td>67297</td>\n",
       "      <td>2</td>\n",
       "      <td>Yoel Raz</td>\n",
       "      <td>left</td>\n",
       "      <td>2</td>\n",
       "    </tr>\n",
       "    <tr>\n",
       "      <th>60029</th>\n",
       "      <td>94.64355</td>\n",
       "      <td>-76.36160</td>\n",
       "      <td>95.38348</td>\n",
       "      <td>-76.51263</td>\n",
       "      <td>96.97344</td>\n",
       "      <td>196.8384</td>\n",
       "      <td>167.8417</td>\n",
       "      <td>199.8574</td>\n",
       "      <td>171.0094</td>\n",
       "      <td>203.6819</td>\n",
       "      <td>...</td>\n",
       "      <td>0.0</td>\n",
       "      <td>0.0</td>\n",
       "      <td>0.0</td>\n",
       "      <td>0.0</td>\n",
       "      <td>856.16330</td>\n",
       "      <td>67302</td>\n",
       "      <td>2</td>\n",
       "      <td>Yoel Raz</td>\n",
       "      <td>right</td>\n",
       "      <td>2</td>\n",
       "    </tr>\n",
       "    <tr>\n",
       "      <th>60030</th>\n",
       "      <td>-77.62601</td>\n",
       "      <td>97.75611</td>\n",
       "      <td>-78.43058</td>\n",
       "      <td>98.93275</td>\n",
       "      <td>-79.84506</td>\n",
       "      <td>173.7391</td>\n",
       "      <td>205.9629</td>\n",
       "      <td>176.0170</td>\n",
       "      <td>208.3153</td>\n",
       "      <td>180.2403</td>\n",
       "      <td>...</td>\n",
       "      <td>0.0</td>\n",
       "      <td>0.0</td>\n",
       "      <td>0.0</td>\n",
       "      <td>0.0</td>\n",
       "      <td>856.26310</td>\n",
       "      <td>67309</td>\n",
       "      <td>2</td>\n",
       "      <td>Yoel Raz</td>\n",
       "      <td>left</td>\n",
       "      <td>2</td>\n",
       "    </tr>\n",
       "    <tr>\n",
       "      <th>60031</th>\n",
       "      <td>101.91230</td>\n",
       "      <td>-81.57359</td>\n",
       "      <td>103.84750</td>\n",
       "      <td>-84.05124</td>\n",
       "      <td>106.11880</td>\n",
       "      <td>212.0264</td>\n",
       "      <td>183.5054</td>\n",
       "      <td>214.7484</td>\n",
       "      <td>187.8450</td>\n",
       "      <td>218.0190</td>\n",
       "      <td>...</td>\n",
       "      <td>0.0</td>\n",
       "      <td>0.0</td>\n",
       "      <td>0.0</td>\n",
       "      <td>0.0</td>\n",
       "      <td>856.32950</td>\n",
       "      <td>67314</td>\n",
       "      <td>2</td>\n",
       "      <td>Yoel Raz</td>\n",
       "      <td>right</td>\n",
       "      <td>2</td>\n",
       "    </tr>\n",
       "  </tbody>\n",
       "</table>\n",
       "<p>60032 rows × 96 columns</p>\n",
       "</div>"
      ],
      "text/plain": [
       "       Position X0  Position X1  Position X2  Position X3  Position X4  \\\n",
       "0       -110.42230    137.58480   -110.69090    138.65750   -111.44740   \n",
       "1        139.30040   -112.54570    139.50180   -113.14660    139.50440   \n",
       "2       -113.91830    140.34820   -115.02970    142.05480   -115.33540   \n",
       "3        144.09590   -114.90850    145.90060   -115.70580    148.04590   \n",
       "4       -116.08190    148.85690   -117.53250    150.12540   -118.87450   \n",
       "...            ...          ...          ...          ...          ...   \n",
       "60027     91.31541    -74.79743     92.07137    -75.16435     92.72672   \n",
       "60028    -75.83507     93.94934    -76.47509     94.50477    -76.48546   \n",
       "60029     94.64355    -76.36160     95.38348    -76.51263     96.97344   \n",
       "60030    -77.62601     97.75611    -78.43058     98.93275    -79.84506   \n",
       "60031    101.91230    -81.57359    103.84750    -84.05124    106.11880   \n",
       "\n",
       "       Position Y0  Position Y1  Position Y2  Position Y3  Position Y4  ...  \\\n",
       "0         231.4766     206.9182     233.3635     210.6163     236.8768  ...   \n",
       "1         214.3510     241.5983     218.3653     245.3283     222.8770  ...   \n",
       "2         249.2464     227.4296     252.5950     233.2705     256.1827  ...   \n",
       "3         239.4014     259.3652     243.7470     261.6903     247.7996  ...   \n",
       "4         262.2935     249.4935     265.2766     252.2394     269.4034  ...   \n",
       "...            ...          ...          ...          ...          ...  ...   \n",
       "60027     182.4873     153.2910     184.3723     154.5737     185.6738  ...   \n",
       "60028     159.3587     190.0024     163.2591     193.3147     165.9167  ...   \n",
       "60029     196.8384     167.8417     199.8574     171.0094     203.6819  ...   \n",
       "60030     173.7391     205.9629     176.0170     208.3153     180.2403  ...   \n",
       "60031     212.0264     183.5054     214.7484     187.8450     218.0190  ...   \n",
       "\n",
       "       Pinch Strength1  Pinch Strength2  Pinch Strength3  Pinch Strength4  \\\n",
       "0                  0.0              0.0              0.0              0.0   \n",
       "1                  0.0              0.0              0.0              0.0   \n",
       "2                  0.0              0.0              0.0              0.0   \n",
       "3                  0.0              0.0              0.0              0.0   \n",
       "4                  0.0              0.0              0.0              0.0   \n",
       "...                ...              ...              ...              ...   \n",
       "60027              0.0              0.0              0.0              0.0   \n",
       "60028              0.0              0.0              0.0              0.0   \n",
       "60029              0.0              0.0              0.0              0.0   \n",
       "60030              0.0              0.0              0.0              0.0   \n",
       "60031              0.0              0.0              0.0              0.0   \n",
       "\n",
       "            Time  Frame ID  state_type           name  Hand Type  # hands  \n",
       "0       71.48033     98080           1  Evyatar Cohen       left        2  \n",
       "1       71.51359     98084           1  Evyatar Cohen      right        2  \n",
       "2       71.56316     98090           1  Evyatar Cohen       left        2  \n",
       "3       71.59629     98094           1  Evyatar Cohen      right        2  \n",
       "4       71.64600     98099           1  Evyatar Cohen       left        2  \n",
       "...          ...       ...         ...            ...        ...      ...  \n",
       "60027  855.99660     67290           2       Yoel Raz      right        2  \n",
       "60028  856.09640     67297           2       Yoel Raz       left        2  \n",
       "60029  856.16330     67302           2       Yoel Raz      right        2  \n",
       "60030  856.26310     67309           2       Yoel Raz       left        2  \n",
       "60031  856.32950     67314           2       Yoel Raz      right        2  \n",
       "\n",
       "[60032 rows x 96 columns]"
      ]
     },
     "execution_count": 4,
     "metadata": {},
     "output_type": "execute_result"
    }
   ],
   "source": [
    "SKIP_MIN_NUM = 7\n",
    "def construct_datasets(path_type):\n",
    "    all_files = glob.glob(path_type)\n",
    "    li = []\n",
    "\n",
    "    for filename in all_files:\n",
    "        df = pd.read_csv(filename, index_col=None, header=0)\n",
    "        df.rename(columns=lambda x: x.strip(), inplace=True)\n",
    "        \n",
    "        df['state_type'] = get_state_type(filename)\n",
    "        df['name'] = filename.split(\"\\\\\")[1]\n",
    "        start_time = df[\"Time\"].min()\n",
    "        df = df[df[\"Time\"]>start_time+SKIP_MIN_NUM]\n",
    "        df = combine_rows(df)\n",
    "        df[\"Time\"] = df[\"Time\"].astype(\"float\")\n",
    "        df = df[df['state_type'].notna()]\n",
    "        df[\"state_type\"] = df[\"state_type\"].astype(\"int\")\n",
    "        li.append(df)\n",
    "        \n",
    "    df = pd.concat(li, axis=0, ignore_index=True)\n",
    "    df = handle_right_hand_file(df)\n",
    "    \n",
    "    return df\n",
    "df = construct_datasets(\"Training/*/*.csv\")\n",
    "df"
   ]
  },
  {
   "cell_type": "markdown",
   "metadata": {},
   "source": [
    "## Labels\n",
    "\n",
    "\n",
    "| Label | Description |\n",
    "| --- | --- |\n",
    "| 1 | Spontan |\n",
    "| 2 | Sync |\n",
    "| 3 | Alone |"
   ]
  },
  {
   "cell_type": "markdown",
   "metadata": {},
   "source": [
    "## Data cleaning"
   ]
  },
  {
   "cell_type": "code",
   "execution_count": 5,
   "metadata": {},
   "outputs": [
    {
     "data": {
      "text/plain": [
       "333.60600    2\n",
       "737.55660    2\n",
       "293.18770    2\n",
       "347.99260    2\n",
       "347.21410    2\n",
       "            ..\n",
       "70.95866     1\n",
       "444.25310    1\n",
       "407.09910    1\n",
       "404.58470    1\n",
       "388.23350    1\n",
       "Name: Time, Length: 59753, dtype: int64"
      ]
     },
     "execution_count": 5,
     "metadata": {},
     "output_type": "execute_result"
    }
   ],
   "source": [
    "df.sort_values('Time')\n",
    "df['Time'].value_counts()"
   ]
  },
  {
   "cell_type": "code",
   "execution_count": 6,
   "metadata": {},
   "outputs": [
    {
     "name": "stdout",
     "output_type": "stream",
     "text": [
      "<class 'pandas.core.frame.DataFrame'>\n",
      "RangeIndex: 60032 entries, 0 to 60031\n",
      "Data columns (total 96 columns):\n",
      " #   Column           Non-Null Count  Dtype  \n",
      "---  ------           --------------  -----  \n",
      " 0   Position X0      60032 non-null  float64\n",
      " 1   Position X1      60032 non-null  float64\n",
      " 2   Position X2      60032 non-null  float64\n",
      " 3   Position X3      60032 non-null  float64\n",
      " 4   Position X4      60032 non-null  float64\n",
      " 5   Position Y0      60032 non-null  float64\n",
      " 6   Position Y1      60032 non-null  float64\n",
      " 7   Position Y2      60032 non-null  float64\n",
      " 8   Position Y3      60032 non-null  float64\n",
      " 9   Position Y4      60032 non-null  float64\n",
      " 10  Position Z0      60032 non-null  float64\n",
      " 11  Position Z1      60032 non-null  float64\n",
      " 12  Position Z2      60032 non-null  float64\n",
      " 13  Position Z3      60032 non-null  float64\n",
      " 14  Position Z4      60032 non-null  float64\n",
      " 15  Velocity X0      60032 non-null  float64\n",
      " 16  Velocity X1      60032 non-null  float64\n",
      " 17  Velocity X2      60032 non-null  float64\n",
      " 18  Velocity X3      60032 non-null  float64\n",
      " 19  Velocity X4      60032 non-null  float64\n",
      " 20  Velocity Y0      60032 non-null  float64\n",
      " 21  Velocity Y1      60032 non-null  float64\n",
      " 22  Velocity Y2      60032 non-null  float64\n",
      " 23  Velocity Y3      60032 non-null  float64\n",
      " 24  Velocity Y4      60032 non-null  float64\n",
      " 25  Velocity Z0      60032 non-null  float64\n",
      " 26  Velocity Z1      60032 non-null  float64\n",
      " 27  Velocity Z2      60032 non-null  float64\n",
      " 28  Velocity Z3      60032 non-null  float64\n",
      " 29  Velocity Z4      60032 non-null  float64\n",
      " 30  Pitch0           60032 non-null  float64\n",
      " 31  Pitch1           60032 non-null  float64\n",
      " 32  Pitch2           60032 non-null  float64\n",
      " 33  Pitch3           60032 non-null  float64\n",
      " 34  Pitch4           60032 non-null  float64\n",
      " 35  Roll0            60032 non-null  float64\n",
      " 36  Roll1            60032 non-null  float64\n",
      " 37  Roll2            60032 non-null  float64\n",
      " 38  Roll3            60032 non-null  float64\n",
      " 39  Roll4            60032 non-null  float64\n",
      " 40  Yaw0             60032 non-null  float64\n",
      " 41  Yaw1             60032 non-null  float64\n",
      " 42  Yaw2             60032 non-null  float64\n",
      " 43  Yaw3             60032 non-null  float64\n",
      " 44  Yaw4             60032 non-null  float64\n",
      " 45  Wrist Pos X0     60032 non-null  float64\n",
      " 46  Wrist Pos X1     60032 non-null  float64\n",
      " 47  Wrist Pos X2     60032 non-null  float64\n",
      " 48  Wrist Pos X3     60032 non-null  float64\n",
      " 49  Wrist Pos X4     60032 non-null  float64\n",
      " 50  Wrist Pos Y0     60032 non-null  float64\n",
      " 51  Wrist Pos Y1     60032 non-null  float64\n",
      " 52  Wrist Pos Y2     60032 non-null  float64\n",
      " 53  Wrist Pos Y3     60032 non-null  float64\n",
      " 54  Wrist Pos Y4     60032 non-null  float64\n",
      " 55  Wrist Pos Z0     60032 non-null  float64\n",
      " 56  Wrist Pos Z1     60032 non-null  float64\n",
      " 57  Wrist Pos Z2     60032 non-null  float64\n",
      " 58  Wrist Pos Z3     60032 non-null  float64\n",
      " 59  Wrist Pos Z4     60032 non-null  float64\n",
      " 60  Elbow pos X0     60032 non-null  float64\n",
      " 61  Elbow pos X1     60032 non-null  float64\n",
      " 62  Elbow pos X2     60032 non-null  float64\n",
      " 63  Elbow pos X3     60032 non-null  float64\n",
      " 64  Elbow pos X4     60032 non-null  float64\n",
      " 65  Elbow Pos Y0     60032 non-null  float64\n",
      " 66  Elbow Pos Y1     60032 non-null  float64\n",
      " 67  Elbow Pos Y2     60032 non-null  float64\n",
      " 68  Elbow Pos Y3     60032 non-null  float64\n",
      " 69  Elbow Pos Y4     60032 non-null  float64\n",
      " 70  Elbow Pos Z0     60032 non-null  float64\n",
      " 71  Elbow Pos Z1     60032 non-null  float64\n",
      " 72  Elbow Pos Z2     60032 non-null  float64\n",
      " 73  Elbow Pos Z3     60032 non-null  float64\n",
      " 74  Elbow Pos Z4     60032 non-null  float64\n",
      " 75  Grab Strenth0    60032 non-null  float64\n",
      " 76  Grab Strenth1    60032 non-null  float64\n",
      " 77  Grab Strenth2    60032 non-null  float64\n",
      " 78  Grab Strenth3    60032 non-null  float64\n",
      " 79  Grab Strenth4    60032 non-null  float64\n",
      " 80  Grab Angle0      60032 non-null  float64\n",
      " 81  Grab Angle1      60032 non-null  float64\n",
      " 82  Grab Angle2      60032 non-null  float64\n",
      " 83  Grab Angle3      60032 non-null  float64\n",
      " 84  Grab Angle4      60032 non-null  float64\n",
      " 85  Pinch Strength0  60032 non-null  float64\n",
      " 86  Pinch Strength1  60032 non-null  float64\n",
      " 87  Pinch Strength2  60032 non-null  float64\n",
      " 88  Pinch Strength3  60032 non-null  float64\n",
      " 89  Pinch Strength4  60032 non-null  float64\n",
      " 90  Time             60032 non-null  float64\n",
      " 91  Frame ID         60032 non-null  object \n",
      " 92  state_type       60032 non-null  int32  \n",
      " 93  name             60032 non-null  object \n",
      " 94  Hand Type        60032 non-null  object \n",
      " 95  # hands          60032 non-null  object \n",
      "dtypes: float64(91), int32(1), object(4)\n",
      "memory usage: 43.7+ MB\n"
     ]
    }
   ],
   "source": [
    "df.info()"
   ]
  },
  {
   "cell_type": "code",
   "execution_count": 7,
   "metadata": {},
   "outputs": [],
   "source": [
    "import matplotlib.dates as matdates\n",
    "\n",
    "def plot_position_over_time(position):\n",
    "    print(position,\"over time\")\n",
    "    for name in df[\"name\"].dropna().unique()[:1]:#you can remove the [] to print for all persons\n",
    "        print(\"plot position of\",name)\n",
    "        fig, ax = plt.subplots(nrows=3, ncols=3,figsize=(20,10))\n",
    "        for state_type in range(1,4):\n",
    "            x_pos_over_timer = df[(df[\"name\"]==name) & (df[\"state_type\"]==state_type)][[\"Time\",position,\"Hand Type\"]]\n",
    "            left_x_pos_over_timer = x_pos_over_timer[x_pos_over_timer[\"Hand Type\"]==\"left\"]\n",
    "            right_x_pos_over_timer = x_pos_over_timer[x_pos_over_timer[\"Hand Type\"]==\"right\"]\n",
    "            ax[state_type-1][0].plot(left_x_pos_over_timer[\"Time\"],left_x_pos_over_timer[position])\n",
    "            ax[state_type-1][0].plot(right_x_pos_over_timer[\"Time\"],right_x_pos_over_timer[position])\n",
    "            ax[state_type-1][1].plot(left_x_pos_over_timer[\"Time\"],left_x_pos_over_timer[position])\n",
    "            ax[state_type-1][2].plot(right_x_pos_over_timer[\"Time\"],right_x_pos_over_timer[position],\"m\")\n",
    "        plt.show()"
   ]
  },
  {
   "cell_type": "code",
   "execution_count": 8,
   "metadata": {},
   "outputs": [
    {
     "name": "stdout",
     "output_type": "stream",
     "text": [
      "0\n"
     ]
    }
   ],
   "source": [
    "print(len(df[pd.isnull(df).any(axis=1)]))"
   ]
  },
  {
   "cell_type": "markdown",
   "metadata": {},
   "source": [
    "## Correlation between features"
   ]
  },
  {
   "cell_type": "code",
   "execution_count": 92,
   "metadata": {},
   "outputs": [
    {
     "data": {
      "text/plain": [
       "<Figure size 3600x2520 with 0 Axes>"
      ]
     },
     "metadata": {},
     "output_type": "display_data"
    }
   ],
   "source": [
    "numeric_df = df.drop([\"Frame ID\",\"state_type\",\"name\",\"Hand Type\",\"# hands\"], axis=1) \n",
    "corr = numeric_df.corr()"
   ]
  },
  {
   "cell_type": "code",
   "execution_count": 106,
   "metadata": {},
   "outputs": [
    {
     "data": {
      "image/png": "[encoded data removed]",
      "text/plain": [
       "<Figure size 1800x1080 with 2 Axes>"
      ]
     },
     "metadata": {
      "needs_background": "light"
     },
     "output_type": "display_data"
    }
   ],
   "source": [
    "f = plt.figure(figsize=(25, 15))\n",
    "plt.matshow(corr, fignum=f.number)\n",
    "plt.xticks(range(numeric_df.shape[1]), numeric_df.columns, fontsize=10, rotation=80)\n",
    "plt.yticks(range(numeric_df.shape[1]), numeric_df.columns, fontsize=10)\n",
    "cb = plt.colorbar()\n",
    "cb.ax.tick_params(labelsize=15)\n",
    "plt.show()"
   ]
  },
  {
   "cell_type": "markdown",
   "metadata": {},
   "source": [
    "# Models"
   ]
  },
  {
   "cell_type": "markdown",
   "metadata": {},
   "source": [
    "### Imports"
   ]
  },
  {
   "cell_type": "code",
   "execution_count": 7,
   "metadata": {
    "ExecuteTime": {
     "end_time": "2020-07-31T12:06:27.067673Z",
     "start_time": "2020-07-31T12:06:20.583509Z"
    }
   },
   "outputs": [
    {
     "name": "stderr",
     "output_type": "stream",
     "text": [
      "Using TensorFlow backend.\n"
     ]
    }
   ],
   "source": [
    "import xgboost as xgb\n",
    "from sklearn.neighbors import KNeighborsClassifier\n",
    "from sklearn.svm import SVC\n",
    "from keras.models import Sequential\n",
    "from keras.layers import Dense, Embedding, LSTM, SpatialDropout1D\n",
    "from tensorflow.keras.utils import to_categorical\n",
    "from sklearn.metrics import classification_report,confusion_matrix,accuracy_score\n",
    "from sklearn.decomposition import PCA\n",
    "from sklearn.naive_bayes import GaussianNB\n",
    "from sklearn.tree import DecisionTreeClassifier\n",
    "from sklearn.ensemble import AdaBoostClassifier\n",
    "from sklearn.ensemble import RandomForestClassifier\n",
    "from sklearn.model_selection import cross_val_score,train_test_split,StratifiedKFold\n",
    "\n",
    "#like kfold but with equal distrabuted chunks\n",
    "import warnings\n",
    "#warnings.filterwarnings('ignore')"
   ]
  },
  {
   "cell_type": "markdown",
   "metadata": {},
   "source": [
    "**Shuffle the data**"
   ]
  },
  {
   "cell_type": "code",
   "execution_count": 8,
   "metadata": {
    "ExecuteTime": {
     "end_time": "2020-07-31T12:06:27.338636Z",
     "start_time": "2020-07-31T12:06:27.071638Z"
    }
   },
   "outputs": [
    {
     "data": {
      "text/html": [
       "<div>\n",
       "<style scoped>\n",
       "    .dataframe tbody tr th:only-of-type {\n",
       "        vertical-align: middle;\n",
       "    }\n",
       "\n",
       "    .dataframe tbody tr th {\n",
       "        vertical-align: top;\n",
       "    }\n",
       "\n",
       "    .dataframe thead th {\n",
       "        text-align: right;\n",
       "    }\n",
       "</style>\n",
       "<table border=\"1\" class=\"dataframe\">\n",
       "  <thead>\n",
       "    <tr style=\"text-align: right;\">\n",
       "      <th></th>\n",
       "      <th>Position X0</th>\n",
       "      <th>Position X1</th>\n",
       "      <th>Position X2</th>\n",
       "      <th>Position X3</th>\n",
       "      <th>Position X4</th>\n",
       "      <th>Position Y0</th>\n",
       "      <th>Position Y1</th>\n",
       "      <th>Position Y2</th>\n",
       "      <th>Position Y3</th>\n",
       "      <th>Position Y4</th>\n",
       "      <th>...</th>\n",
       "      <th>Pinch Strength1</th>\n",
       "      <th>Pinch Strength2</th>\n",
       "      <th>Pinch Strength3</th>\n",
       "      <th>Pinch Strength4</th>\n",
       "      <th>Time</th>\n",
       "      <th>Frame ID</th>\n",
       "      <th>state_type</th>\n",
       "      <th>name</th>\n",
       "      <th>Hand Type</th>\n",
       "      <th># hands</th>\n",
       "    </tr>\n",
       "  </thead>\n",
       "  <tbody>\n",
       "    <tr>\n",
       "      <th>0</th>\n",
       "      <td>153.69320</td>\n",
       "      <td>-99.63034</td>\n",
       "      <td>153.36750</td>\n",
       "      <td>-100.33610</td>\n",
       "      <td>152.26960</td>\n",
       "      <td>230.2679</td>\n",
       "      <td>141.9383</td>\n",
       "      <td>230.4591</td>\n",
       "      <td>143.8630</td>\n",
       "      <td>229.4772</td>\n",
       "      <td>...</td>\n",
       "      <td>0.000000</td>\n",
       "      <td>0.0</td>\n",
       "      <td>0.000000</td>\n",
       "      <td>0.0</td>\n",
       "      <td>181.0006</td>\n",
       "      <td>21460</td>\n",
       "      <td>1</td>\n",
       "      <td>Orya Kalmanovitz</td>\n",
       "      <td>right</td>\n",
       "      <td>2</td>\n",
       "    </tr>\n",
       "    <tr>\n",
       "      <th>1</th>\n",
       "      <td>-11.65949</td>\n",
       "      <td>-11.18732</td>\n",
       "      <td>-11.59908</td>\n",
       "      <td>-14.37793</td>\n",
       "      <td>-16.39284</td>\n",
       "      <td>194.9421</td>\n",
       "      <td>199.6535</td>\n",
       "      <td>203.5603</td>\n",
       "      <td>208.9689</td>\n",
       "      <td>214.8690</td>\n",
       "      <td>...</td>\n",
       "      <td>0.000000</td>\n",
       "      <td>0.0</td>\n",
       "      <td>0.000000</td>\n",
       "      <td>0.0</td>\n",
       "      <td>564.7716</td>\n",
       "      <td>154919</td>\n",
       "      <td>3</td>\n",
       "      <td>Evyatar Cohen</td>\n",
       "      <td>left</td>\n",
       "      <td>1</td>\n",
       "    </tr>\n",
       "    <tr>\n",
       "      <th>2</th>\n",
       "      <td>-53.65945</td>\n",
       "      <td>144.51660</td>\n",
       "      <td>-53.23605</td>\n",
       "      <td>144.55360</td>\n",
       "      <td>-53.01060</td>\n",
       "      <td>180.2209</td>\n",
       "      <td>222.0503</td>\n",
       "      <td>180.2553</td>\n",
       "      <td>221.7570</td>\n",
       "      <td>180.8817</td>\n",
       "      <td>...</td>\n",
       "      <td>0.000000</td>\n",
       "      <td>0.0</td>\n",
       "      <td>0.000000</td>\n",
       "      <td>0.0</td>\n",
       "      <td>766.0015</td>\n",
       "      <td>88681</td>\n",
       "      <td>2</td>\n",
       "      <td>Shelly Social_Nuero</td>\n",
       "      <td>left</td>\n",
       "      <td>2</td>\n",
       "    </tr>\n",
       "    <tr>\n",
       "      <th>3</th>\n",
       "      <td>-102.14430</td>\n",
       "      <td>-106.66830</td>\n",
       "      <td>-109.63040</td>\n",
       "      <td>-110.26700</td>\n",
       "      <td>-109.98140</td>\n",
       "      <td>211.4936</td>\n",
       "      <td>209.1679</td>\n",
       "      <td>207.5930</td>\n",
       "      <td>202.7849</td>\n",
       "      <td>197.2902</td>\n",
       "      <td>...</td>\n",
       "      <td>0.064172</td>\n",
       "      <td>0.0</td>\n",
       "      <td>0.000000</td>\n",
       "      <td>0.0</td>\n",
       "      <td>718.7756</td>\n",
       "      <td>56160</td>\n",
       "      <td>3</td>\n",
       "      <td>Yoel Raz</td>\n",
       "      <td>left</td>\n",
       "      <td>1</td>\n",
       "    </tr>\n",
       "    <tr>\n",
       "      <th>4</th>\n",
       "      <td>128.07230</td>\n",
       "      <td>-119.02290</td>\n",
       "      <td>126.49980</td>\n",
       "      <td>-119.91950</td>\n",
       "      <td>125.34700</td>\n",
       "      <td>206.8646</td>\n",
       "      <td>188.9501</td>\n",
       "      <td>206.3213</td>\n",
       "      <td>187.1628</td>\n",
       "      <td>206.0566</td>\n",
       "      <td>...</td>\n",
       "      <td>0.000000</td>\n",
       "      <td>1.0</td>\n",
       "      <td>0.000000</td>\n",
       "      <td>1.0</td>\n",
       "      <td>401.9668</td>\n",
       "      <td>136159</td>\n",
       "      <td>1</td>\n",
       "      <td>Evyatar Cohen</td>\n",
       "      <td>right</td>\n",
       "      <td>2</td>\n",
       "    </tr>\n",
       "    <tr>\n",
       "      <th>...</th>\n",
       "      <td>...</td>\n",
       "      <td>...</td>\n",
       "      <td>...</td>\n",
       "      <td>...</td>\n",
       "      <td>...</td>\n",
       "      <td>...</td>\n",
       "      <td>...</td>\n",
       "      <td>...</td>\n",
       "      <td>...</td>\n",
       "      <td>...</td>\n",
       "      <td>...</td>\n",
       "      <td>...</td>\n",
       "      <td>...</td>\n",
       "      <td>...</td>\n",
       "      <td>...</td>\n",
       "      <td>...</td>\n",
       "      <td>...</td>\n",
       "      <td>...</td>\n",
       "      <td>...</td>\n",
       "      <td>...</td>\n",
       "      <td>...</td>\n",
       "    </tr>\n",
       "    <tr>\n",
       "      <th>60027</th>\n",
       "      <td>-204.76260</td>\n",
       "      <td>92.86594</td>\n",
       "      <td>-204.88930</td>\n",
       "      <td>92.14623</td>\n",
       "      <td>-205.53120</td>\n",
       "      <td>239.7147</td>\n",
       "      <td>234.2593</td>\n",
       "      <td>240.0523</td>\n",
       "      <td>233.2304</td>\n",
       "      <td>241.5378</td>\n",
       "      <td>...</td>\n",
       "      <td>0.000000</td>\n",
       "      <td>0.0</td>\n",
       "      <td>0.000000</td>\n",
       "      <td>0.0</td>\n",
       "      <td>460.6937</td>\n",
       "      <td>53172</td>\n",
       "      <td>2</td>\n",
       "      <td>Oriya Social_Nuero</td>\n",
       "      <td>left</td>\n",
       "      <td>2</td>\n",
       "    </tr>\n",
       "    <tr>\n",
       "      <th>60028</th>\n",
       "      <td>141.82210</td>\n",
       "      <td>-116.61760</td>\n",
       "      <td>141.88200</td>\n",
       "      <td>-116.00760</td>\n",
       "      <td>142.41620</td>\n",
       "      <td>179.6343</td>\n",
       "      <td>176.5283</td>\n",
       "      <td>180.1647</td>\n",
       "      <td>176.0050</td>\n",
       "      <td>181.8188</td>\n",
       "      <td>...</td>\n",
       "      <td>0.000000</td>\n",
       "      <td>0.0</td>\n",
       "      <td>0.000000</td>\n",
       "      <td>0.0</td>\n",
       "      <td>571.8669</td>\n",
       "      <td>66601</td>\n",
       "      <td>1</td>\n",
       "      <td>Revital Marbel</td>\n",
       "      <td>right</td>\n",
       "      <td>2</td>\n",
       "    </tr>\n",
       "    <tr>\n",
       "      <th>60029</th>\n",
       "      <td>135.03870</td>\n",
       "      <td>-166.97630</td>\n",
       "      <td>134.25270</td>\n",
       "      <td>-163.27340</td>\n",
       "      <td>133.11950</td>\n",
       "      <td>212.5394</td>\n",
       "      <td>208.9394</td>\n",
       "      <td>209.4848</td>\n",
       "      <td>202.8968</td>\n",
       "      <td>206.4600</td>\n",
       "      <td>...</td>\n",
       "      <td>0.000000</td>\n",
       "      <td>0.0</td>\n",
       "      <td>0.000000</td>\n",
       "      <td>0.0</td>\n",
       "      <td>666.7536</td>\n",
       "      <td>77856</td>\n",
       "      <td>2</td>\n",
       "      <td>Nofar Social_Nuero</td>\n",
       "      <td>right</td>\n",
       "      <td>2</td>\n",
       "    </tr>\n",
       "    <tr>\n",
       "      <th>60030</th>\n",
       "      <td>224.92770</td>\n",
       "      <td>-154.13500</td>\n",
       "      <td>227.72890</td>\n",
       "      <td>-152.69950</td>\n",
       "      <td>230.12140</td>\n",
       "      <td>293.4737</td>\n",
       "      <td>174.3275</td>\n",
       "      <td>296.0541</td>\n",
       "      <td>174.2669</td>\n",
       "      <td>297.8920</td>\n",
       "      <td>...</td>\n",
       "      <td>0.789192</td>\n",
       "      <td>1.0</td>\n",
       "      <td>0.779378</td>\n",
       "      <td>1.0</td>\n",
       "      <td>516.4098</td>\n",
       "      <td>62087</td>\n",
       "      <td>2</td>\n",
       "      <td>Shahar Terner</td>\n",
       "      <td>right</td>\n",
       "      <td>2</td>\n",
       "    </tr>\n",
       "    <tr>\n",
       "      <th>60031</th>\n",
       "      <td>-92.19800</td>\n",
       "      <td>70.16494</td>\n",
       "      <td>-90.26189</td>\n",
       "      <td>70.07745</td>\n",
       "      <td>-88.66868</td>\n",
       "      <td>274.8719</td>\n",
       "      <td>126.0023</td>\n",
       "      <td>273.6147</td>\n",
       "      <td>126.7081</td>\n",
       "      <td>271.7104</td>\n",
       "      <td>...</td>\n",
       "      <td>0.000000</td>\n",
       "      <td>0.0</td>\n",
       "      <td>0.000000</td>\n",
       "      <td>0.0</td>\n",
       "      <td>633.0641</td>\n",
       "      <td>73645</td>\n",
       "      <td>1</td>\n",
       "      <td>Revital Marbel</td>\n",
       "      <td>left</td>\n",
       "      <td>2</td>\n",
       "    </tr>\n",
       "  </tbody>\n",
       "</table>\n",
       "<p>60032 rows × 96 columns</p>\n",
       "</div>"
      ],
      "text/plain": [
       "       Position X0  Position X1  Position X2  Position X3  Position X4  \\\n",
       "0        153.69320    -99.63034    153.36750   -100.33610    152.26960   \n",
       "1        -11.65949    -11.18732    -11.59908    -14.37793    -16.39284   \n",
       "2        -53.65945    144.51660    -53.23605    144.55360    -53.01060   \n",
       "3       -102.14430   -106.66830   -109.63040   -110.26700   -109.98140   \n",
       "4        128.07230   -119.02290    126.49980   -119.91950    125.34700   \n",
       "...            ...          ...          ...          ...          ...   \n",
       "60027   -204.76260     92.86594   -204.88930     92.14623   -205.53120   \n",
       "60028    141.82210   -116.61760    141.88200   -116.00760    142.41620   \n",
       "60029    135.03870   -166.97630    134.25270   -163.27340    133.11950   \n",
       "60030    224.92770   -154.13500    227.72890   -152.69950    230.12140   \n",
       "60031    -92.19800     70.16494    -90.26189     70.07745    -88.66868   \n",
       "\n",
       "       Position Y0  Position Y1  Position Y2  Position Y3  Position Y4  ...  \\\n",
       "0         230.2679     141.9383     230.4591     143.8630     229.4772  ...   \n",
       "1         194.9421     199.6535     203.5603     208.9689     214.8690  ...   \n",
       "2         180.2209     222.0503     180.2553     221.7570     180.8817  ...   \n",
       "3         211.4936     209.1679     207.5930     202.7849     197.2902  ...   \n",
       "4         206.8646     188.9501     206.3213     187.1628     206.0566  ...   \n",
       "...            ...          ...          ...          ...          ...  ...   \n",
       "60027     239.7147     234.2593     240.0523     233.2304     241.5378  ...   \n",
       "60028     179.6343     176.5283     180.1647     176.0050     181.8188  ...   \n",
       "60029     212.5394     208.9394     209.4848     202.8968     206.4600  ...   \n",
       "60030     293.4737     174.3275     296.0541     174.2669     297.8920  ...   \n",
       "60031     274.8719     126.0023     273.6147     126.7081     271.7104  ...   \n",
       "\n",
       "       Pinch Strength1  Pinch Strength2  Pinch Strength3  Pinch Strength4  \\\n",
       "0             0.000000              0.0         0.000000              0.0   \n",
       "1             0.000000              0.0         0.000000              0.0   \n",
       "2             0.000000              0.0         0.000000              0.0   \n",
       "3             0.064172              0.0         0.000000              0.0   \n",
       "4             0.000000              1.0         0.000000              1.0   \n",
       "...                ...              ...              ...              ...   \n",
       "60027         0.000000              0.0         0.000000              0.0   \n",
       "60028         0.000000              0.0         0.000000              0.0   \n",
       "60029         0.000000              0.0         0.000000              0.0   \n",
       "60030         0.789192              1.0         0.779378              1.0   \n",
       "60031         0.000000              0.0         0.000000              0.0   \n",
       "\n",
       "           Time  Frame ID  state_type                 name  Hand Type  # hands  \n",
       "0      181.0006     21460           1     Orya Kalmanovitz      right        2  \n",
       "1      564.7716    154919           3        Evyatar Cohen       left        1  \n",
       "2      766.0015     88681           2  Shelly Social_Nuero       left        2  \n",
       "3      718.7756     56160           3             Yoel Raz       left        1  \n",
       "4      401.9668    136159           1        Evyatar Cohen      right        2  \n",
       "...         ...       ...         ...                  ...        ...      ...  \n",
       "60027  460.6937     53172           2   Oriya Social_Nuero       left        2  \n",
       "60028  571.8669     66601           1       Revital Marbel      right        2  \n",
       "60029  666.7536     77856           2   Nofar Social_Nuero      right        2  \n",
       "60030  516.4098     62087           2        Shahar Terner      right        2  \n",
       "60031  633.0641     73645           1       Revital Marbel       left        2  \n",
       "\n",
       "[60032 rows x 96 columns]"
      ]
     },
     "execution_count": 8,
     "metadata": {},
     "output_type": "execute_result"
    }
   ],
   "source": [
    "df = df.sample(frac=1).reset_index(drop=True)\n",
    "df"
   ]
  },
  {
   "cell_type": "markdown",
   "metadata": {},
   "source": [
    "For tuning the hyper parameters,let's **split** the train data(we don't want to touch the validation till end)."
   ]
  },
  {
   "cell_type": "code",
   "execution_count": 9,
   "metadata": {
    "ExecuteTime": {
     "end_time": "2020-07-31T12:06:27.487682Z",
     "start_time": "2020-07-31T12:06:27.344636Z"
    }
   },
   "outputs": [],
   "source": [
    "y = df[\"state_type\"]\n",
    "X = df.drop([\"Frame ID\",\"state_type\",\"name\",\"Hand Type\",\"# hands\"], axis=1)\n",
    "X_train, X_test, y_train, y_test = train_test_split(X, y, test_size=0.33, random_state=42)"
   ]
  },
  {
   "cell_type": "markdown",
   "metadata": {},
   "source": [
    "### Features Balance"
   ]
  },
  {
   "cell_type": "code",
   "execution_count": 10,
   "metadata": {
    "ExecuteTime": {
     "end_time": "2020-07-31T12:06:27.500637Z",
     "start_time": "2020-07-31T12:06:27.489635Z"
    }
   },
   "outputs": [
    {
     "name": "stdout",
     "output_type": "stream",
     "text": [
      "1    24385\n",
      "2    24195\n",
      "3    11452\n",
      "Name: state_type, dtype: int64\n"
     ]
    }
   ],
   "source": [
    "print(y.value_counts())"
   ]
  },
  {
   "cell_type": "markdown",
   "metadata": {},
   "source": [
    "## Features importance using PCA"
   ]
  },
  {
   "cell_type": "code",
   "execution_count": 96,
   "metadata": {},
   "outputs": [
    {
     "data": {
      "text/html": [
       "<div>\n",
       "<style scoped>\n",
       "    .dataframe tbody tr th:only-of-type {\n",
       "        vertical-align: middle;\n",
       "    }\n",
       "\n",
       "    .dataframe tbody tr th {\n",
       "        vertical-align: top;\n",
       "    }\n",
       "\n",
       "    .dataframe thead th {\n",
       "        text-align: right;\n",
       "    }\n",
       "</style>\n",
       "<table border=\"1\" class=\"dataframe\">\n",
       "  <thead>\n",
       "    <tr style=\"text-align: right;\">\n",
       "      <th></th>\n",
       "      <th>0</th>\n",
       "      <th>1</th>\n",
       "    </tr>\n",
       "  </thead>\n",
       "  <tbody>\n",
       "    <tr>\n",
       "      <th>0</th>\n",
       "      <td>PC0</td>\n",
       "      <td>Elbow pos X2</td>\n",
       "    </tr>\n",
       "    <tr>\n",
       "      <th>1</th>\n",
       "      <td>PC1</td>\n",
       "      <td>Velocity Y2</td>\n",
       "    </tr>\n",
       "    <tr>\n",
       "      <th>2</th>\n",
       "      <td>PC2</td>\n",
       "      <td>Elbow pos X1</td>\n",
       "    </tr>\n",
       "    <tr>\n",
       "      <th>3</th>\n",
       "      <td>PC3</td>\n",
       "      <td>Velocity Z2</td>\n",
       "    </tr>\n",
       "    <tr>\n",
       "      <th>4</th>\n",
       "      <td>PC4</td>\n",
       "      <td>Velocity Y1</td>\n",
       "    </tr>\n",
       "    <tr>\n",
       "      <th>5</th>\n",
       "      <td>PC5</td>\n",
       "      <td>Time</td>\n",
       "    </tr>\n",
       "    <tr>\n",
       "      <th>6</th>\n",
       "      <td>PC6</td>\n",
       "      <td>Time</td>\n",
       "    </tr>\n",
       "    <tr>\n",
       "      <th>7</th>\n",
       "      <td>PC7</td>\n",
       "      <td>Velocity Z1</td>\n",
       "    </tr>\n",
       "    <tr>\n",
       "      <th>8</th>\n",
       "      <td>PC8</td>\n",
       "      <td>Elbow Pos Y2</td>\n",
       "    </tr>\n",
       "    <tr>\n",
       "      <th>9</th>\n",
       "      <td>PC9</td>\n",
       "      <td>Velocity X3</td>\n",
       "    </tr>\n",
       "    <tr>\n",
       "      <th>10</th>\n",
       "      <td>PC10</td>\n",
       "      <td>Elbow Pos Z2</td>\n",
       "    </tr>\n",
       "    <tr>\n",
       "      <th>11</th>\n",
       "      <td>PC11</td>\n",
       "      <td>Elbow Pos Y2</td>\n",
       "    </tr>\n",
       "    <tr>\n",
       "      <th>12</th>\n",
       "      <td>PC12</td>\n",
       "      <td>Elbow Pos Y1</td>\n",
       "    </tr>\n",
       "    <tr>\n",
       "      <th>13</th>\n",
       "      <td>PC13</td>\n",
       "      <td>Velocity Y4</td>\n",
       "    </tr>\n",
       "  </tbody>\n",
       "</table>\n",
       "</div>"
      ],
      "text/plain": [
       "       0             1\n",
       "0    PC0  Elbow pos X2\n",
       "1    PC1   Velocity Y2\n",
       "2    PC2  Elbow pos X1\n",
       "3    PC3   Velocity Z2\n",
       "4    PC4   Velocity Y1\n",
       "5    PC5          Time\n",
       "6    PC6          Time\n",
       "7    PC7   Velocity Z1\n",
       "8    PC8  Elbow Pos Y2\n",
       "9    PC9   Velocity X3\n",
       "10  PC10  Elbow Pos Z2\n",
       "11  PC11  Elbow Pos Y2\n",
       "12  PC12  Elbow Pos Y1\n",
       "13  PC13   Velocity Y4"
      ]
     },
     "execution_count": 96,
     "metadata": {},
     "output_type": "execute_result"
    }
   ],
   "source": [
    "pca = PCA(n_components=0.95)\n",
    "pca.fit(X_train)\n",
    "X_pc = pca.transform(X_train)\n",
    "n_pcs= pca.components_.shape[0]\n",
    "most_important = [np.abs(pca.components_[i]).argmax() for i in range(n_pcs)]\n",
    "initial_feature_names = list(X_train.columns)\n",
    "most_important_names = [initial_feature_names[most_important[i]] for i in range(n_pcs)]\n",
    "dic = {'PC{}'.format(i): most_important_names[i] for i in range(n_pcs)}\n",
    "pd.DataFrame(dic.items())"
   ]
  },
  {
   "cell_type": "markdown",
   "metadata": {},
   "source": [
    "## Simple ML models"
   ]
  },
  {
   "cell_type": "markdown",
   "metadata": {},
   "source": [
    "### k nearest neighbors(knn)"
   ]
  },
  {
   "cell_type": "code",
   "execution_count": 97,
   "metadata": {},
   "outputs": [
    {
     "name": "stdout",
     "output_type": "stream",
     "text": [
      "              precision    recall  f1-score   support\n",
      "\n",
      "           1       0.97      0.95      0.96      8041\n",
      "           2       0.95      0.97      0.96      8016\n",
      "           3       0.99      1.00      1.00      3754\n",
      "\n",
      "    accuracy                           0.97     19811\n",
      "   macro avg       0.97      0.97      0.97     19811\n",
      "weighted avg       0.97      0.97      0.97     19811\n",
      "\n"
     ]
    }
   ],
   "source": [
    "knn = KNeighborsClassifier(n_neighbors=5,p=1,weights=\"distance\")\n",
    "knn.fit(X_train,y_train)\n",
    "y_pred = knn.predict(X_test)\n",
    "print(classification_report(y_test, y_pred))"
   ]
  },
  {
   "cell_type": "code",
   "execution_count": 101,
   "metadata": {},
   "outputs": [
    {
     "data": {
      "image/png": "[encoded data removed]",
      "text/plain": [
       "<Figure size 432x288 with 2 Axes>"
      ]
     },
     "metadata": {
      "needs_background": "light"
     },
     "output_type": "display_data"
    }
   ],
   "source": [
    "sns.heatmap(confusion_matrix(y_test, y_pred), cmap=\"YlGnBu\",annot=True, fmt=\"d\")"
   ]
  },
  {
   "cell_type": "markdown",
   "metadata": {},
   "source": [
    "### Decision Tree"
   ]
  },
  {
   "cell_type": "code",
   "execution_count": null,
   "metadata": {},
   "outputs": [],
   "source": [
    "dst = DecisionTreeClassifier(max_depth=12,random_state=0)\n",
    "dst.fit(X_train,y_train)\n",
    "y_pred = dst.predict(X_test)\n",
    "print(classification_report(y_pred,y_test))"
   ]
  },
  {
   "cell_type": "markdown",
   "metadata": {},
   "source": [
    "## Boosting"
   ]
  },
  {
   "cell_type": "markdown",
   "metadata": {},
   "source": [
    "### Extreme Gradient Boosting(xgboost)"
   ]
  },
  {
   "cell_type": "code",
   "execution_count": 21,
   "metadata": {},
   "outputs": [],
   "source": [
    "def get_xgboost_model(x,y,verbose_eval=150):\n",
    "    param_list = [(\"eta\", 0.08), (\"max_depth\", 6), (\"subsample\", 0.8), \n",
    "                  (\"colsample_bytree\", 0.8), (\"objective\", \"multi:softmax\"), (\"eval_metric\", \"merror\"),\n",
    "                  (\"alpha\", 7), (\"lambda\", 2), (\"num_class\", 4)]\n",
    "    \n",
    "    model = xgb.XGBClassifier(param_list,random_state=93)\n",
    "    model.fit(x,y)\n",
    "    return model\n"
   ]
  },
  {
   "cell_type": "code",
   "execution_count": 26,
   "metadata": {},
   "outputs": [
    {
     "name": "stdout",
     "output_type": "stream",
     "text": [
      "              precision    recall  f1-score   support\n",
      "\n",
      "           1       1.00      0.99      1.00      8051\n",
      "           2       1.00      1.00      1.00      8042\n",
      "           3       1.00      1.00      1.00      3718\n",
      "\n",
      "    accuracy                           1.00     19811\n",
      "   macro avg       1.00      1.00      1.00     19811\n",
      "weighted avg       1.00      1.00      1.00     19811\n",
      "\n"
     ]
    }
   ],
   "source": [
    "xgb_model = get_xgboost_model(X_train,y_train)\n",
    "y_pred = xgb_model.predict(X_test)\n",
    "print(classification_report(y_test, y_pred))"
   ]
  },
  {
   "cell_type": "code",
   "execution_count": null,
   "metadata": {},
   "outputs": [],
   "source": [
    "feature_important = xgb_model.get_booster().get_score(importance_type='weight')\n",
    "keys = list(feature_important.keys())\n",
    "values = list(feature_important.values())\n",
    "\n",
    "data = pd.DataFrame(data=values, index=keys, columns=[\"score\"]).sort_values(by = \"score\", ascending=False)\n",
    "data.plot(kind='barh')"
   ]
  },
  {
   "cell_type": "markdown",
   "metadata": {},
   "source": [
    "### Adaboost"
   ]
  },
  {
   "cell_type": "code",
   "execution_count": null,
   "metadata": {
    "ExecuteTime": {
     "start_time": "2020-07-31T12:16:10.103Z"
    }
   },
   "outputs": [],
   "source": [
    "base_estimetor = DecisionTreeClassifier(max_depth=12,random_state=0)\n",
    "adboost = AdaBoostClassifier(base_estimetor,learning_rate=0.08,n_estimators=500, random_state=93)\n",
    "adboost.fit(X_train,y_train)\n",
    "y_pred = adboost.predict(X_test)\n",
    "print(classification_report(y_test, y_pred))"
   ]
  },
  {
   "cell_type": "code",
   "execution_count": null,
   "metadata": {
    "ExecuteTime": {
     "start_time": "2020-07-31T12:16:10.903Z"
    }
   },
   "outputs": [],
   "source": [
    "sns.heatmap(confusion_matrix(y_test, y_pred), cmap=\"YlGnBu\",annot=True, fmt=\"d\")"
   ]
  },
  {
   "cell_type": "code",
   "execution_count": 97,
   "metadata": {},
   "outputs": [
    {
     "name": "stdout",
     "output_type": "stream",
     "text": [
      "              precision    recall  f1-score   support\n",
      "\n",
      "           1       0.64      0.66      0.65      7731\n",
      "           2       0.68      0.65      0.66      8298\n",
      "           3       0.98      0.98      0.98      3782\n",
      "\n",
      "    accuracy                           0.72     19811\n",
      "   macro avg       0.77      0.77      0.77     19811\n",
      "weighted avg       0.72      0.72      0.72     19811\n",
      "\n"
     ]
    }
   ],
   "source": [
    "adboost_with_pca = AdaBoostClassifier(n_estimators=400, random_state=93)\n",
    "adboost_with_pca.fit(pca.transform(X_train),y_train)\n",
    "y_pred = adboost_with_pca.predict(pca.transform(X_test))\n",
    "print(classification_report(y_pred,y_test))"
   ]
  },
  {
   "cell_type": "markdown",
   "metadata": {},
   "source": [
    "## neural network"
   ]
  },
  {
   "cell_type": "code",
   "execution_count": 98,
   "metadata": {},
   "outputs": [],
   "source": [
    "def get_neural_network_model():\n",
    "    model = Sequential()\n",
    "\n",
    "    model.add(Dense(3, input_dim=len(X_train.columns), activation='relu'))\n",
    "    model.add(Dense(50, activation='relu'))\n",
    "    model.add(Dense(30, activation='relu'))\n",
    "    model.add(Dense(3, activation='softmax'))\n",
    "\n",
    "    model.compile(loss='categorical_crossentropy', optimizer='adam', metrics=['accuracy'])\n",
    "    return model"
   ]
  },
  {
   "cell_type": "code",
   "execution_count": 99,
   "metadata": {},
   "outputs": [
    {
     "name": "stdout",
     "output_type": "stream",
     "text": [
      "80.82%\n"
     ]
    }
   ],
   "source": [
    "np.random.seed(93)\n",
    "model = get_neural_network_model()\n",
    "model.fit(X_train, pd.get_dummies(y_train), epochs=10, validation_split=0.1,verbose=0)\n",
    "_, test_acc = model.evaluate(X_test, pd.get_dummies(y_test),verbose=0)\n",
    "print(\"%.2f%%\" % (test_acc*100))"
   ]
  },
  {
   "cell_type": "code",
   "execution_count": 41,
   "metadata": {},
   "outputs": [
    {
     "name": "stdout",
     "output_type": "stream",
     "text": [
      "              precision    recall  f1-score   support\n",
      "\n",
      "           1       0.89      0.70      0.79     10114\n",
      "           2       0.63      0.85      0.72      5934\n",
      "           3       0.97      0.98      0.97      3763\n",
      "\n",
      "    accuracy                           0.80     19811\n",
      "   macro avg       0.83      0.84      0.83     19811\n",
      "weighted avg       0.83      0.80      0.80     19811\n",
      "\n"
     ]
    }
   ],
   "source": [
    "y_pred = model.predict_classes(X_test)\n",
    "y_pred = pd.Series(y_pred)+1\n",
    "print(classification_report(y_pred,y_test))"
   ]
  },
  {
   "cell_type": "markdown",
   "metadata": {},
   "source": [
    "## Bagging with Random Forest"
   ]
  },
  {
   "cell_type": "code",
   "execution_count": 23,
   "metadata": {},
   "outputs": [
    {
     "name": "stdout",
     "output_type": "stream",
     "text": [
      "              precision    recall  f1-score   support\n",
      "\n",
      "           1       0.97      0.98      0.98      8012\n",
      "           2       0.99      0.97      0.98      8017\n",
      "           3       0.99      1.00      0.99      3782\n",
      "\n",
      "    accuracy                           0.98     19811\n",
      "   macro avg       0.98      0.98      0.98     19811\n",
      "weighted avg       0.98      0.98      0.98     19811\n",
      "\n"
     ]
    }
   ],
   "source": [
    "rnd_clf = RandomForestClassifier(n_estimators=100,max_depth=100,n_jobs=-1)\n",
    "rnd_clf = rnd_clf.fit(X_train,y_train)\n",
    "y_pred = rnd_clf.predict(X_test)\n",
    "print(classification_report(y_test, y_pred))"
   ]
  },
  {
   "cell_type": "markdown",
   "metadata": {},
   "source": [
    "# Validation"
   ]
  },
  {
   "cell_type": "code",
   "execution_count": 102,
   "metadata": {},
   "outputs": [],
   "source": [
    "test_df = construct_datasets(\"Validation/*/*.csv\")\n",
    "test_df = test_df.dropna()\n",
    "y = test_df[\"state_type\"]\n",
    "X = test_df.drop([\"Frame ID\",\"state_type\",\"name\",\"Hand Type\",\"# hands\"], axis=1)"
   ]
  },
  {
   "cell_type": "code",
   "execution_count": 103,
   "metadata": {},
   "outputs": [
    {
     "name": "stdout",
     "output_type": "stream",
     "text": [
      "0.8816487848986263\n"
     ]
    }
   ],
   "source": [
    "scores = cross_val_score(knn, X, y, cv=5)\n",
    "print(scores.mean())"
   ]
  },
  {
   "cell_type": "code",
   "execution_count": 148,
   "metadata": {},
   "outputs": [
    {
     "name": "stdout",
     "output_type": "stream",
     "text": [
      "Epoch 1/10\n",
      "54027/54027 [==============================] - 2s 39us/step - loss: 0.8985 - accuracy: 0.5901\n",
      "Epoch 2/10\n",
      "54027/54027 [==============================] - 3s 47us/step - loss: 0.5813 - accuracy: 0.7071\n",
      "Epoch 3/10\n",
      "54027/54027 [==============================] - 2s 43us/step - loss: 0.5051 - accuracy: 0.7734\n",
      "Epoch 4/10\n",
      "54027/54027 [==============================] - 3s 57us/step - loss: 0.4791 - accuracy: 0.7866\n",
      "Epoch 5/10\n",
      "54027/54027 [==============================] - 3s 55us/step - loss: 0.4639 - accuracy: 0.7944\n",
      "Epoch 6/10\n",
      "54027/54027 [==============================] - 2s 39us/step - loss: 0.4523 - accuracy: 0.8059\n",
      "Epoch 7/10\n",
      "54027/54027 [==============================] - 2s 46us/step - loss: 0.4467 - accuracy: 0.8057\n",
      "Epoch 8/10\n",
      " 2048/54027 [>.............................] - ETA: 1:03 - loss: 0.4357 - accuracy: 0.8062"
     ]
    },
    {
     "name": "stderr",
     "output_type": "stream",
     "text": [
      "C:\\Users\\magshimim\\Anaconda3\\lib\\site-packages\\keras\\callbacks\\callbacks.py:95: RuntimeWarning: Method (on_train_batch_end) is slow compared to the batch update (0.103001). Check your callbacks.\n",
      "  % (hook_name, delta_t_median), RuntimeWarning)\n"
     ]
    },
    {
     "name": "stdout",
     "output_type": "stream",
     "text": [
      "54027/54027 [==============================] - 8s 140us/step - loss: 0.4425 - accuracy: 0.8110\n",
      "Epoch 9/10\n",
      "54027/54027 [==============================] - 3s 54us/step - loss: 0.4414 - accuracy: 0.8099\n",
      "Epoch 10/10\n",
      "54027/54027 [==============================] - 2s 46us/step - loss: 0.4424 - accuracy: 0.8105\n",
      "accuracy: 80.40%\n",
      "Epoch 1/10\n",
      "54027/54027 [==============================] - 2s 46us/step - loss: 1.0359 - accuracy: 0.5384\n",
      "Epoch 2/10\n",
      "54027/54027 [==============================] - 3s 49us/step - loss: 0.6358 - accuracy: 0.6334\n",
      "Epoch 3/10\n",
      "54027/54027 [==============================] - 3s 47us/step - loss: 0.5887 - accuracy: 0.6921\n",
      "Epoch 4/10\n",
      "54027/54027 [==============================] - 3s 63us/step - loss: 0.5673 - accuracy: 0.7091\n",
      "Epoch 5/10\n",
      "54027/54027 [==============================] - 3s 60us/step - loss: 0.5470 - accuracy: 0.7267\n",
      "Epoch 6/10\n",
      "54027/54027 [==============================] - 3s 56us/step - loss: 0.5210 - accuracy: 0.7416\n",
      "Epoch 7/10\n",
      "54027/54027 [==============================] - 2s 39us/step - loss: 0.5137 - accuracy: 0.7488\n",
      "Epoch 8/10\n",
      "54027/54027 [==============================] - 2s 44us/step - loss: 0.5105 - accuracy: 0.7493\n",
      "Epoch 9/10\n",
      "54027/54027 [==============================] - 2s 38us/step - loss: 0.5043 - accuracy: 0.7533\n",
      "Epoch 10/10\n",
      "54027/54027 [==============================] - 2s 39us/step - loss: 0.4992 - accuracy: 0.7582\n",
      "accuracy: 75.49%\n",
      "Epoch 1/10\n",
      "54028/54028 [==============================] - 2s 42us/step - loss: 1.1197 - accuracy: 0.4411\n",
      "Epoch 2/10\n",
      "54028/54028 [==============================] - 2s 39us/step - loss: 0.8794 - accuracy: 0.5265\n",
      "Epoch 3/10\n",
      "54028/54028 [==============================] - 3s 47us/step - loss: 0.6206 - accuracy: 0.6915\n",
      "Epoch 4/10\n",
      "54028/54028 [==============================] - 2s 42us/step - loss: 0.5475 - accuracy: 0.7209\n",
      "Epoch 5/10\n",
      "54028/54028 [==============================] - 3s 50us/step - loss: 0.5220 - accuracy: 0.7362\n",
      "Epoch 6/10\n",
      "54028/54028 [==============================] - 3s 46us/step - loss: 0.5112 - accuracy: 0.7486\n",
      "Epoch 7/10\n",
      "54028/54028 [==============================] - 3s 51us/step - loss: 0.4967 - accuracy: 0.7561\n",
      "Epoch 8/10\n",
      "54028/54028 [==============================] - 3s 47us/step - loss: 0.4803 - accuracy: 0.7719\n",
      "Epoch 9/10\n",
      "54028/54028 [==============================] - 2s 42us/step - loss: 0.4609 - accuracy: 0.7846\n",
      "Epoch 10/10\n",
      "54028/54028 [==============================] - 3s 51us/step - loss: 0.4560 - accuracy: 0.7881\n",
      "accuracy: 78.96%\n",
      "Epoch 1/10\n",
      "54028/54028 [==============================] - 2s 42us/step - loss: 1.1087 - accuracy: 0.4465\n",
      "Epoch 2/10\n",
      "54028/54028 [==============================] - 2s 43us/step - loss: 0.7271 - accuracy: 0.6449\n",
      "Epoch 3/10\n",
      "54028/54028 [==============================] - 2s 37us/step - loss: 0.5447 - accuracy: 0.7478\n",
      "Epoch 4/10\n",
      "54028/54028 [==============================] - 2s 41us/step - loss: 0.4706 - accuracy: 0.7815\n",
      "Epoch 5/10\n",
      "54028/54028 [==============================] - 3s 52us/step - loss: 0.4549 - accuracy: 0.7900\n",
      "Epoch 6/10\n",
      "54028/54028 [==============================] - 3s 55us/step - loss: 0.4431 - accuracy: 0.7975\n",
      "Epoch 7/10\n",
      "54028/54028 [==============================] - 2s 44us/step - loss: 0.4363 - accuracy: 0.8000\n",
      "Epoch 8/10\n",
      "54028/54028 [==============================] - 2s 37us/step - loss: 0.4413 - accuracy: 0.7987\n",
      "Epoch 9/10\n",
      "54028/54028 [==============================] - 2s 46us/step - loss: 0.4393 - accuracy: 0.7996\n",
      "Epoch 10/10\n",
      "54028/54028 [==============================] - 2s 38us/step - loss: 0.4314 - accuracy: 0.8029\n",
      "accuracy: 81.45%\n",
      "Epoch 1/10\n",
      "54028/54028 [==============================] - 2s 41us/step - loss: 0.7791 - accuracy: 0.6147\n",
      "Epoch 2/10\n",
      "54028/54028 [==============================] - 3s 49us/step - loss: 0.4912 - accuracy: 0.7767\n",
      "Epoch 3/10\n",
      "54028/54028 [==============================] - 2s 44us/step - loss: 0.4714 - accuracy: 0.7894\n",
      "Epoch 4/10\n",
      "54028/54028 [==============================] - 3s 48us/step - loss: 0.4601 - accuracy: 0.7985\n",
      "Epoch 5/10\n",
      "54028/54028 [==============================] - 2s 40us/step - loss: 0.4459 - accuracy: 0.8081\n",
      "Epoch 6/10\n",
      "54028/54028 [==============================] - 3s 47us/step - loss: 0.4403 - accuracy: 0.8145\n",
      "Epoch 7/10\n",
      "54028/54028 [==============================] - 2s 45us/step - loss: 0.4341 - accuracy: 0.8172\n",
      "Epoch 8/10\n",
      "54028/54028 [==============================] - 2s 44us/step - loss: 0.4317 - accuracy: 0.8179\n",
      "Epoch 9/10\n",
      "54028/54028 [==============================] - 3s 52us/step - loss: 0.4290 - accuracy: 0.8172\n",
      "Epoch 10/10\n",
      "54028/54028 [==============================] - 2s 39us/step - loss: 0.4264 - accuracy: 0.8201\n",
      "accuracy: 80.56%\n",
      "Epoch 1/10\n",
      "54030/54030 [==============================] - 3s 46us/step - loss: 0.7113 - accuracy: 0.6090\n",
      "Epoch 2/10\n",
      "54030/54030 [==============================] - 2s 39us/step - loss: 0.5808 - accuracy: 0.6844\n",
      "Epoch 3/10\n",
      "54030/54030 [==============================] - 2s 46us/step - loss: 0.5298 - accuracy: 0.7371\n",
      "Epoch 4/10\n",
      "54030/54030 [==============================] - 2s 38us/step - loss: 0.5174 - accuracy: 0.7428\n",
      "Epoch 5/10\n",
      "54030/54030 [==============================] - ETA: 0s - loss: 0.5070 - accuracy: 0.74 - 2s 44us/step - loss: 0.5071 - accuracy: 0.7487\n",
      "Epoch 6/10\n",
      "54030/54030 [==============================] - 3s 47us/step - loss: 0.5035 - accuracy: 0.7474\n",
      "Epoch 7/10\n",
      "54030/54030 [==============================] - 3s 52us/step - loss: 0.5003 - accuracy: 0.7511\n",
      "Epoch 8/10\n",
      "54030/54030 [==============================] - 3s 53us/step - loss: 0.4962 - accuracy: 0.7525\n",
      "Epoch 9/10\n",
      "54030/54030 [==============================] - 2s 43us/step - loss: 0.4936 - accuracy: 0.7539\n",
      "Epoch 10/10\n",
      "54030/54030 [==============================] - 3s 50us/step - loss: 0.4942 - accuracy: 0.7571\n",
      "accuracy: 75.12%\n",
      "Epoch 1/10\n",
      "54030/54030 [==============================] - 2s 45us/step - loss: 0.7603 - accuracy: 0.6319\n",
      "Epoch 2/10\n",
      "54030/54030 [==============================] - 3s 50us/step - loss: 0.5706 - accuracy: 0.7140\n",
      "Epoch 3/10\n",
      "54030/54030 [==============================] - 2s 45us/step - loss: 0.5368 - accuracy: 0.7314\n",
      "Epoch 4/10\n",
      "54030/54030 [==============================] - 3s 50us/step - loss: 0.5148 - accuracy: 0.7388\n",
      "Epoch 5/10\n",
      "54030/54030 [==============================] - 2s 43us/step - loss: 0.5073 - accuracy: 0.7460\n",
      "Epoch 6/10\n",
      "54030/54030 [==============================] - 3s 54us/step - loss: 0.5002 - accuracy: 0.7486\n",
      "Epoch 7/10\n",
      "54030/54030 [==============================] - 2s 44us/step - loss: 0.5002 - accuracy: 0.7465\n",
      "Epoch 8/10\n",
      "54030/54030 [==============================] - 2s 43us/step - loss: 0.4927 - accuracy: 0.7512\n",
      "Epoch 9/10\n",
      "54030/54030 [==============================] - 3s 48us/step - loss: 0.4933 - accuracy: 0.7508\n",
      "Epoch 10/10\n",
      "54030/54030 [==============================] - 2s 42us/step - loss: 0.4910 - accuracy: 0.7530\n",
      "accuracy: 76.07%\n",
      "Epoch 1/10\n",
      "54030/54030 [==============================] - 3s 51us/step - loss: 0.9207 - accuracy: 0.6033\n",
      "Epoch 2/10\n",
      "54030/54030 [==============================] - 2s 43us/step - loss: 0.5817 - accuracy: 0.6712\n",
      "Epoch 3/10\n",
      "54030/54030 [==============================] - 3s 49us/step - loss: 0.5457 - accuracy: 0.6874\n",
      "Epoch 4/10\n",
      "54030/54030 [==============================] - 2s 41us/step - loss: 0.5305 - accuracy: 0.7235\n",
      "Epoch 5/10\n",
      "54030/54030 [==============================] - 3s 49us/step - loss: 0.5146 - accuracy: 0.7505\n",
      "Epoch 6/10\n",
      "54030/54030 [==============================] - 2s 42us/step - loss: 0.4931 - accuracy: 0.7731\n",
      "Epoch 7/10\n",
      "54030/54030 [==============================] - 2s 41us/step - loss: 0.4852 - accuracy: 0.7809\n",
      "Epoch 8/10\n",
      "54030/54030 [==============================] - 3s 48us/step - loss: 0.4744 - accuracy: 0.7894\n",
      "Epoch 9/10\n",
      "54030/54030 [==============================] - 2s 43us/step - loss: 0.4745 - accuracy: 0.7908\n",
      "Epoch 10/10\n",
      "54030/54030 [==============================] - 3s 56us/step - loss: 0.4655 - accuracy: 0.7976\n",
      "accuracy: 78.54%\n",
      "Epoch 1/10\n",
      "54030/54030 [==============================] - 3s 47us/step - loss: 0.9724 - accuracy: 0.5732\n",
      "Epoch 2/10\n",
      "54030/54030 [==============================] - 3s 54us/step - loss: 0.5679 - accuracy: 0.6933\n",
      "Epoch 3/10\n",
      "54030/54030 [==============================] - 3s 47us/step - loss: 0.5142 - accuracy: 0.7388\n",
      "Epoch 4/10\n",
      "54030/54030 [==============================] - 3s 62us/step - loss: 0.4913 - accuracy: 0.7531\n",
      "Epoch 5/10\n",
      "54030/54030 [==============================] - 3s 55us/step - loss: 0.4664 - accuracy: 0.7671\n",
      "Epoch 6/10\n",
      "54030/54030 [==============================] - 4s 65us/step - loss: 0.4534 - accuracy: 0.7761\n",
      "Epoch 7/10\n",
      "54030/54030 [==============================] - 4s 68us/step - loss: 0.4389 - accuracy: 0.7854\n",
      "Epoch 8/10\n",
      "54030/54030 [==============================] - 3s 55us/step - loss: 0.4328 - accuracy: 0.7896\n",
      "Epoch 9/10\n",
      "54030/54030 [==============================] - 3s 51us/step - loss: 0.4186 - accuracy: 0.7979\n",
      "Epoch 10/10\n",
      "54030/54030 [==============================] - 3s 49us/step - loss: 0.4138 - accuracy: 0.8016\n",
      "accuracy: 80.07%\n",
      "Epoch 1/10\n",
      "54030/54030 [==============================] - 3s 55us/step - loss: 0.9424 - accuracy: 0.5808\n",
      "Epoch 2/10\n",
      "54030/54030 [==============================] - 3s 48us/step - loss: 0.6138 - accuracy: 0.6464\n",
      "Epoch 3/10\n",
      "54030/54030 [==============================] - 3s 55us/step - loss: 0.5734 - accuracy: 0.7016\n",
      "Epoch 4/10\n",
      "54030/54030 [==============================] - 2s 41us/step - loss: 0.5416 - accuracy: 0.7341\n",
      "Epoch 5/10\n",
      "54030/54030 [==============================] - 3s 49us/step - loss: 0.5124 - accuracy: 0.7623\n",
      "Epoch 6/10\n",
      "54030/54030 [==============================] - 2s 39us/step - loss: 0.4648 - accuracy: 0.7913\n",
      "Epoch 7/10\n",
      "54030/54030 [==============================] - 2s 41us/step - loss: 0.4316 - accuracy: 0.8095\n",
      "Epoch 8/10\n",
      "54030/54030 [==============================] - 3s 51us/step - loss: 0.4214 - accuracy: 0.8143\n",
      "Epoch 9/10\n",
      "54030/54030 [==============================] - 2s 44us/step - loss: 0.4132 - accuracy: 0.8217\n",
      "Epoch 10/10\n",
      "54030/54030 [==============================] - 2s 46us/step - loss: 0.4092 - accuracy: 0.8221\n",
      "accuracy: 83.37%\n",
      "79.00% (+/- 2.58%)\n"
     ]
    }
   ],
   "source": [
    "kfold = StratifiedKFold(n_splits=10, shuffle=True, random_state=93)\n",
    "cvscores = []\n",
    "for train, test in kfold.split(X, y):\n",
    "    model = get_neural_network_model()\n",
    "    model.fit(X.iloc[train], pd.get_dummies(y[train]), epochs=10,verbose=0)\n",
    "    scores = model.evaluate(X.iloc[test], pd.get_dummies(y[test]), verbose=0)\n",
    "    cvscores.append(scores[1] * 100)\n",
    "print(cvscores)\n",
    "print(\"%.2f%% (+/- %.2f%%)\" % (np.mean(cvscores), np.std(cvscores)))"
   ]
  },
  {
   "cell_type": "code",
   "execution_count": 19,
   "metadata": {},
   "outputs": [
    {
     "name": "stdout",
     "output_type": "stream",
     "text": [
      "[0]\ttrain-merror:0.12371\tvalidation-merror:0.12377\n",
      "Multiple eval metrics have been passed: 'validation-merror' will be used for early stopping.\n",
      "\n",
      "Will train until validation-merror hasn't improved in 50 rounds.\n",
      "[299]\ttrain-merror:0.00076\tvalidation-merror:0.00453\n",
      "[0]\ttrain-merror:0.12618\tvalidation-merror:0.12725\n",
      "Multiple eval metrics have been passed: 'validation-merror' will be used for early stopping.\n",
      "\n",
      "Will train until validation-merror hasn't improved in 50 rounds.\n",
      "[299]\ttrain-merror:0.00076\tvalidation-merror:0.00506\n",
      "[0]\ttrain-merror:0.12792\tvalidation-merror:0.12778\n",
      "Multiple eval metrics have been passed: 'validation-merror' will be used for early stopping.\n",
      "\n",
      "Will train until validation-merror hasn't improved in 50 rounds.\n",
      "[299]\ttrain-merror:0.00063\tvalidation-merror:0.00346\n",
      "[0]\ttrain-merror:0.10663\tvalidation-merror:0.11847\n",
      "Multiple eval metrics have been passed: 'validation-merror' will be used for early stopping.\n",
      "\n",
      "Will train until validation-merror hasn't improved in 50 rounds.\n",
      "[299]\ttrain-merror:0.00095\tvalidation-merror:0.00533\n",
      "[0]\ttrain-merror:0.12144\tvalidation-merror:0.12435\n",
      "Multiple eval metrics have been passed: 'validation-merror' will be used for early stopping.\n",
      "\n",
      "Will train until validation-merror hasn't improved in 50 rounds.\n",
      "[299]\ttrain-merror:0.00093\tvalidation-merror:0.00507\n",
      "[0]\ttrain-merror:0.11942\tvalidation-merror:0.12582\n",
      "Multiple eval metrics have been passed: 'validation-merror' will be used for early stopping.\n",
      "\n",
      "Will train until validation-merror hasn't improved in 50 rounds.\n",
      "[299]\ttrain-merror:0.00070\tvalidation-merror:0.00520\n",
      "[0]\ttrain-merror:0.12142\tvalidation-merror:0.12968\n",
      "Multiple eval metrics have been passed: 'validation-merror' will be used for early stopping.\n",
      "\n",
      "Will train until validation-merror hasn't improved in 50 rounds.\n",
      "[299]\ttrain-merror:0.00088\tvalidation-merror:0.00453\n",
      "[0]\ttrain-merror:0.12467\tvalidation-merror:0.13941\n",
      "Multiple eval metrics have been passed: 'validation-merror' will be used for early stopping.\n",
      "\n",
      "Will train until validation-merror hasn't improved in 50 rounds.\n",
      "[299]\ttrain-merror:0.00072\tvalidation-merror:0.00520\n",
      "1.00% (+/- 0.00%)\n"
     ]
    }
   ],
   "source": [
    "kfold = StratifiedKFold(n_splits=8, shuffle=True, random_state=93)\n",
    "cvscores = []\n",
    "for train, test in kfold.split(X, y):\n",
    "    y_pred = xgboost_model(X_train=X.iloc[train],X_test=X.iloc[test],y_train=y[train],y_test=y[test],verbose_eval=600)\n",
    "    cvscores.append(accuracy_score(y[test],y_pred)*100)\n",
    "print(\"%.2f%% (+/- %.2f%%)\" % (np.mean(cvscores), np.std(cvscores)))"
   ]
  },
  {
   "cell_type": "code",
   "execution_count": 63,
   "metadata": {},
   "outputs": [
    {
     "name": "stdout",
     "output_type": "stream",
     "text": [
      "0.985724153548933\n"
     ]
    }
   ],
   "source": [
    "cvscores = cross_val_score(rnd_clf, X, y, cv=kfold)*100\n",
    "print(\"%.2f%% (+/- %.2f%%)\" % (np.mean(cvscores), np.std(cvscores)))"
   ]
  },
  {
   "cell_type": "code",
   "execution_count": 81,
   "metadata": {},
   "outputs": [
    {
     "name": "stdout",
     "output_type": "stream",
     "text": [
      "74.30% (+/- 1.93%)\n"
     ]
    }
   ],
   "source": [
    "cvscores = cross_val_score(adboost, X, y, cv=kfold)*100\n",
    "print(\"%.2f%% (+/- %.2f%%)\" % (np.mean(cvscores), np.std(cvscores)))"
   ]
  },
  {
   "cell_type": "code",
   "execution_count": 70,
   "metadata": {},
   "outputs": [
    {
     "name": "stdout",
     "output_type": "stream",
     "text": [
      "94.28% (+/- 0.32%)\n"
     ]
    }
   ],
   "source": [
    "cvscores = cross_val_score(dst, X, y, cv=kfold)*100\n",
    "print(\"%.2f%% (+/- %.2f%%)\" % (np.mean(cvscores), np.std(cvscores)))"
   ]
  },
  {
   "cell_type": "code",
   "execution_count": null,
   "metadata": {},
   "outputs": [],
   "source": []
  }
 ],
 "metadata": {
  "kernelspec": {
   "display_name": "Python 3",
   "language": "python",
   "name": "python3"
  },
  "language_info": {
   "codemirror_mode": {
    "name": "ipython",
    "version": 3
   },
   "file_extension": ".py",
   "mimetype": "text/x-python",
   "name": "python",
   "nbconvert_exporter": "python",
   "pygments_lexer": "ipython3",
   "version": "3.7.4"
  },
  "notify_time": "30",
  "toc": {
   "base_numbering": 1,
   "nav_menu": {},
   "number_sections": true,
   "sideBar": true,
   "skip_h1_title": false,
   "title_cell": "Table of Contents",
   "title_sidebar": "Contents",
   "toc_cell": false,
   "toc_position": {},
   "toc_section_display": true,
   "toc_window_display": false
  }
 },
 "nbformat": 4,
 "nbformat_minor": 2
}
